{
 "cells": [
  {
   "cell_type": "code",
   "id": "initial_id",
   "metadata": {
    "collapsed": true,
    "ExecuteTime": {
     "end_time": "2025-01-09T13:26:05.259823Z",
     "start_time": "2025-01-09T13:26:05.255329Z"
    }
   },
   "source": [
    "import time\n",
    "\n",
    "from neo4j import GraphDatabase"
   ],
   "outputs": [],
   "execution_count": 25
  },
  {
   "metadata": {
    "ExecuteTime": {
     "end_time": "2025-01-09T13:26:13.425512Z",
     "start_time": "2025-01-09T13:26:13.421629Z"
    }
   },
   "cell_type": "code",
   "source": "ITERATIONS = 100",
   "id": "ef413b089dcf39c1",
   "outputs": [],
   "execution_count": 27
  },
  {
   "metadata": {
    "ExecuteTime": {
     "end_time": "2025-01-09T13:24:19.589686Z",
     "start_time": "2025-01-09T13:24:19.574040Z"
    }
   },
   "cell_type": "code",
   "source": [
    "URI = \"bolt://localhost:7687\"\n",
    "driver = GraphDatabase.driver(URI, auth=(\"neo4j\", \"password\"))"
   ],
   "id": "99547992497fa110",
   "outputs": [],
   "execution_count": 19
  },
  {
   "metadata": {
    "ExecuteTime": {
     "end_time": "2025-01-09T13:24:20.638850Z",
     "start_time": "2025-01-09T13:24:20.580535Z"
    }
   },
   "cell_type": "code",
   "source": [
    "def check_connection(driver):\n",
    "    with driver.session() as session:\n",
    "        result = session.run(\"CALL dbms.components()\")\n",
    "        for record in result:\n",
    "            print(record)\n",
    "\n",
    "\n",
    "check_connection(driver)"
   ],
   "id": "a0b8babfc8917b8e",
   "outputs": [
    {
     "name": "stdout",
     "output_type": "stream",
     "text": [
      "<Record name='Neo4j Kernel' versions=['5.26.0'] edition='community'>\n"
     ]
    }
   ],
   "execution_count": 20
  },
  {
   "metadata": {},
   "cell_type": "markdown",
   "source": "## Które popularne lotniska (minimum 30 połączeń) nie są ze sobą połączone?\n",
   "id": "29a97906349469c"
  },
  {
   "metadata": {
    "ExecuteTime": {
     "end_time": "2025-01-09T13:24:37.209741Z",
     "start_time": "2025-01-09T13:24:37.207128Z"
    }
   },
   "cell_type": "code",
   "source": [
    "query = \"\"\"\n",
    "MATCH (t1:Terminal)-[r:FLIGHT_TO]->(t2:Terminal)\n",
    "WITH t1, count(r) as routes_count\n",
    "WHERE routes_count > 30\n",
    "WITH collect(t1) as major_airports\n",
    "UNWIND major_airports as airport1\n",
    "UNWIND major_airports as airport2\n",
    "WITH airport1, airport2\n",
    "WHERE airport1 <> airport2\n",
    "AND NOT (airport1)-[:FLIGHT_TO]->(airport2)\n",
    "RETURN\n",
    "    airport1.name as Airport1,\n",
    "    airport1.iata as IATA1,\n",
    "    airport2.name as Airport2,\n",
    "    airport2.iata as IATA2,\n",
    "    point.distance(airport1.location, airport2.location)/1000 as Distance_KM\n",
    "ORDER BY Distance_KM\n",
    "LIMIT 10\n",
    "\"\"\""
   ],
   "id": "8204f69dd3aa978b",
   "outputs": [],
   "execution_count": 22
  },
  {
   "metadata": {
    "ExecuteTime": {
     "end_time": "2025-01-09T13:26:28.046606Z",
     "start_time": "2025-01-09T13:26:27.740081Z"
    }
   },
   "cell_type": "code",
   "source": [
    "with driver.session() as session:\n",
    "    # get timestamp with microsecond\n",
    "    start = time.time()\n",
    "    for _ in range(ITERATIONS):\n",
    "        result = session.run(query)\n",
    "    end = time.time()\n",
    "\n",
    "print(f\"Query took {(end - start)/ITERATIONS} seconds on average\")"
   ],
   "id": "b4c8cb5e43735362",
   "outputs": [
    {
     "name": "stdout",
     "output_type": "stream",
     "text": [
      "Query took 0.00301501989364624 seconds\n"
     ]
    }
   ],
   "execution_count": 31
  },
  {
   "metadata": {
    "ExecuteTime": {
     "end_time": "2025-01-09T13:30:35.846475Z",
     "start_time": "2025-01-09T13:30:35.598085Z"
    }
   },
   "cell_type": "code",
   "source": [
    "# let's create indices\n",
    "with driver.session() as session:\n",
    "    session.run(\"\"\"\n",
    "    CREATE INDEX terminal_details IF NOT EXISTS\n",
    "    FOR (t:Terminal)\n",
    "    ON (t.name, t.iata, t.location)\n",
    "    \"\"\")\n",
    "    # create index on flight_to relationship to speed up the query\n",
    "    session.run(\"\"\"\n",
    "    CREATE INDEX flight_source IF NOT EXISTS\n",
    "    FOR ()-[r:FLIGHT_TO]->()\n",
    "    ON (r.source)\n",
    "    \"\"\")\n",
    "    session.run(\"\"\"\n",
    "    CREATE INDEX flight_destination IF NOT EXISTS\n",
    "    FOR ()-[r:FLIGHT_TO]->()\n",
    "    ON (r.destination)\n",
    "    \"\"\")\n"
   ],
   "id": "76ea89cb73e8337f",
   "outputs": [],
   "execution_count": 33
  },
  {
   "metadata": {
    "ExecuteTime": {
     "end_time": "2025-01-09T13:30:49.129968Z",
     "start_time": "2025-01-09T13:30:48.942950Z"
    }
   },
   "cell_type": "code",
   "source": [
    "with driver.session() as session:\n",
    "    # get timestamp with microsecond\n",
    "    start = time.time()\n",
    "    for _ in range(ITERATIONS):\n",
    "        result = session.run(query)\n",
    "    end = time.time()\n",
    "\n",
    "print(f\"Query took {(end - start)/ITERATIONS} seconds on average\")"
   ],
   "id": "140d97fb8563a6b5",
   "outputs": [
    {
     "name": "stdout",
     "output_type": "stream",
     "text": [
      "Query took 0.0018349123001098634 seconds on average\n"
     ]
    }
   ],
   "execution_count": 35
  },
  {
   "metadata": {},
   "cell_type": "markdown",
   "source": "## Które linie lotnicze mają najbardziej zróżnicowane floty?",
   "id": "79c804fdac85f6dd"
  },
  {
   "metadata": {
    "ExecuteTime": {
     "end_time": "2025-01-09T13:35:02.077231Z",
     "start_time": "2025-01-09T13:35:02.073070Z"
    }
   },
   "cell_type": "code",
   "source": [
    "query = \"\"\"\n",
    "MATCH (a:Airline)-[op:OPERATES]->(p:PlaneType)\n",
    "WITH\n",
    "    a.name as airline_name,\n",
    "    a.iata as airline_code,\n",
    "    COUNT(DISTINCT p) as plane_type_count,\n",
    "    COLLECT(DISTINCT p.name) as fleet\n",
    "RETURN\n",
    "    airline_name as Airline,\n",
    "    airline_code as IATA,\n",
    "    plane_type_count as Number_of_Plane_Types,\n",
    "    fleet as Fleet_List\n",
    "ORDER BY plane_type_count DESC\n",
    "\"\"\""
   ],
   "id": "bd7e891245f446bc",
   "outputs": [],
   "execution_count": 36
  },
  {
   "metadata": {
    "ExecuteTime": {
     "end_time": "2025-01-09T13:35:44.534271Z",
     "start_time": "2025-01-09T13:35:44.011397Z"
    }
   },
   "cell_type": "code",
   "source": [
    "with driver.session() as session:\n",
    "    # get timestamp with microsecond\n",
    "    start = time.time()\n",
    "    for _ in range(ITERATIONS):\n",
    "        result = session.run(query)\n",
    "    end = time.time()\n",
    "\n",
    "print(f\"Query took {(end - start)/ITERATIONS} seconds on average\")"
   ],
   "id": "70b86966318121c4",
   "outputs": [
    {
     "name": "stdout",
     "output_type": "stream",
     "text": [
      "Query took 0.005170118808746338 seconds on average\n"
     ]
    }
   ],
   "execution_count": 37
  },
  {
   "metadata": {
    "ExecuteTime": {
     "end_time": "2025-01-09T13:36:25.083495Z",
     "start_time": "2025-01-09T13:36:25.030902Z"
    }
   },
   "cell_type": "code",
   "source": [
    "with driver.session() as session:\n",
    "    session.run(\"\"\"\n",
    "CREATE INDEX airline_details IF NOT EXISTS\n",
    "FOR (a:Airline)\n",
    "ON (a.name, a.iata)\n",
    "\"\"\")\n",
    "    session.run(\"\"\"\n",
    "CREATE INDEX plane_type_name IF NOT EXISTS\n",
    "FOR (p:PlaneType)\n",
    "ON (p.name)\n",
    "\"\"\")"
   ],
   "id": "22f40963a12cb89c",
   "outputs": [],
   "execution_count": 38
  },
  {
   "metadata": {
    "ExecuteTime": {
     "end_time": "2025-01-09T13:36:36.100102Z",
     "start_time": "2025-01-09T13:36:35.860485Z"
    }
   },
   "cell_type": "code",
   "source": [
    "with driver.session() as session:\n",
    "    # get timestamp with microsecond\n",
    "    start = time.time()\n",
    "    for _ in range(ITERATIONS):\n",
    "        result = session.run(query)\n",
    "    end = time.time()\n",
    "\n",
    "\n",
    "print(f\"Query took {(end - start)/ITERATIONS} seconds on average\")"
   ],
   "id": "71991c627eb2eca8",
   "outputs": [
    {
     "name": "stdout",
     "output_type": "stream",
     "text": [
      "Query took 0.0023398399353027344 seconds on average\n"
     ]
    }
   ],
   "execution_count": 39
  }
 ],
 "metadata": {
  "kernelspec": {
   "display_name": "Python 3",
   "language": "python",
   "name": "python3"
  },
  "language_info": {
   "codemirror_mode": {
    "name": "ipython",
    "version": 2
   },
   "file_extension": ".py",
   "mimetype": "text/x-python",
   "name": "python",
   "nbconvert_exporter": "python",
   "pygments_lexer": "ipython2",
   "version": "2.7.6"
  }
 },
 "nbformat": 4,
 "nbformat_minor": 5
}
