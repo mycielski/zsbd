{
 "cells": [
  {
   "cell_type": "code",
   "execution_count": 424,
   "id": "145242cd57f42d31",
   "metadata": {
    "ExecuteTime": {
     "end_time": "2025-01-08T18:40:19.083640Z",
     "start_time": "2025-01-08T18:40:19.078970Z"
    }
   },
   "outputs": [],
   "source": [
    "from pathlib import Path\n",
    "\n",
    "from neo4j import GraphDatabase\n",
    "from tqdm.notebook import tqdm\n",
    "import pandas as pd"
   ]
  },
  {
   "cell_type": "code",
   "execution_count": 425,
   "id": "6effe7e204f33a20",
   "metadata": {
    "ExecuteTime": {
     "end_time": "2025-01-08T18:40:19.115245Z",
     "start_time": "2025-01-08T18:40:19.111008Z"
    }
   },
   "outputs": [],
   "source": [
    "# log in to neo4j db\n",
    "URI = \"bolt://localhost:7687\"\n",
    "driver = GraphDatabase.driver(URI, auth=(\"neo4j\", \"password\"))"
   ]
  },
  {
   "cell_type": "code",
   "execution_count": 426,
   "id": "355598ac4e56c8a7",
   "metadata": {
    "ExecuteTime": {
     "end_time": "2025-01-08T18:40:19.142458Z",
     "start_time": "2025-01-08T18:40:19.118597Z"
    }
   },
   "outputs": [
    {
     "name": "stdout",
     "output_type": "stream",
     "text": [
      "<Record name='Neo4j Kernel' versions=['5.26.0'] edition='community'>\n"
     ]
    }
   ],
   "source": [
    "def check_connection(driver):\n",
    "    with driver.session() as session:\n",
    "        result = session.run(\"CALL dbms.components()\")\n",
    "        for record in result:\n",
    "            print(record)\n",
    "\n",
    "\n",
    "check_connection(driver)"
   ]
  },
  {
   "cell_type": "code",
   "execution_count": 427,
   "id": "a591a43a5fb6f6b5",
   "metadata": {
    "ExecuteTime": {
     "end_time": "2025-01-08T18:40:19.236947Z",
     "start_time": "2025-01-08T18:40:19.153198Z"
    }
   },
   "outputs": [
    {
     "data": {
      "application/vnd.jupyter.widget-view+json": {
       "model_id": "dcdb2189842c401a8e3fef93fbfa0ab7",
       "version_major": 2,
       "version_minor": 0
      },
      "text/plain": [
       "Deleting nodes:   0%|          | 0/2500 [00:00<?, ?nodes/s]"
      ]
     },
     "metadata": {},
     "output_type": "display_data"
    }
   ],
   "source": [
    "with driver.session() as session:\n",
    "    count_query = \"MATCH (n) RETURN count(n) as total\"\n",
    "    total_nodes = session.run(count_query).single()[\"total\"]\n",
    "\n",
    "    progress = tqdm(total=total_nodes, desc=\"Deleting nodes\", unit=\"nodes\")\n",
    "\n",
    "    # Delete in batches\n",
    "    batch_size = 250\n",
    "    while True:\n",
    "        delete_query = \"\"\"\n",
    "        MATCH (n)\n",
    "        WITH n LIMIT $batch_size\n",
    "        DETACH DELETE n\n",
    "        RETURN count(n) as deleted\n",
    "        \"\"\"\n",
    "\n",
    "        result = session.run(delete_query, batch_size=batch_size)\n",
    "        deleted_count = result.single()[\"deleted\"]\n",
    "\n",
    "        progress.update(deleted_count)\n",
    "\n",
    "        if deleted_count == 0:\n",
    "            break\n",
    "\n",
    "    progress.close()"
   ]
  },
  {
   "cell_type": "code",
   "execution_count": 428,
   "id": "5a89973d826ad67c",
   "metadata": {
    "ExecuteTime": {
     "end_time": "2025-01-08T18:40:19.258028Z",
     "start_time": "2025-01-08T18:40:19.255396Z"
    }
   },
   "outputs": [],
   "source": [
    "DATASET_PATH = Path(\"dataset\")\n",
    "airlines_csv = DATASET_PATH / \"airlines.csv\"\n",
    "countries_csv = DATASET_PATH / \"countries.csv\"\n",
    "planes_csv = DATASET_PATH / \"planes.csv\"\n",
    "routes_csv = DATASET_PATH / \"routes.csv\"\n",
    "terminals_csv = DATASET_PATH / \"terminals.csv\""
   ]
  },
  {
   "cell_type": "code",
   "execution_count": 429,
   "id": "11dc4d1639d81094",
   "metadata": {
    "ExecuteTime": {
     "end_time": "2025-01-08T18:40:19.348196Z",
     "start_time": "2025-01-08T18:40:19.261716Z"
    }
   },
   "outputs": [],
   "source": [
    "airlines_df = pd.read_csv(airlines_csv)\n",
    "countries_df = pd.read_csv(countries_csv)\n",
    "planes_df = pd.read_csv(planes_csv)\n",
    "routes_df = pd.read_csv(routes_csv)\n",
    "terminals_df = pd.read_csv(terminals_csv)"
   ]
  },
  {
   "cell_type": "code",
   "execution_count": 430,
   "id": "e430cd798e6ab7f9",
   "metadata": {
    "ExecuteTime": {
     "end_time": "2025-01-08T18:40:19.426551Z",
     "start_time": "2025-01-08T18:40:19.357019Z"
    }
   },
   "outputs": [],
   "source": [
    "# for each df replace '\\N' with None\n",
    "airlines_df = airlines_df.map(lambda x: None if x == \"\\\\N\" else x)\n",
    "countries_df = countries_df.map(lambda x: None if x == \"\\\\N\" else x)\n",
    "planes_df = planes_df.map(lambda x: None if x == \"\\\\N\" else x)\n",
    "routes_df = routes_df.map(lambda x: None if x == \"\\\\N\" else x)\n",
    "terminals_df = terminals_df.map(lambda x: None if x == \"\\\\N\" else x)"
   ]
  },
  {
   "cell_type": "code",
   "execution_count": 431,
   "id": "5238bbc846a4f669",
   "metadata": {
    "ExecuteTime": {
     "end_time": "2025-01-08T18:40:19.450165Z",
     "start_time": "2025-01-08T18:40:19.433735Z"
    }
   },
   "outputs": [],
   "source": [
    "# drop None values\n",
    "airlines_df = airlines_df.dropna()\n",
    "countries_df = countries_df.dropna()\n",
    "planes_df = planes_df.dropna()\n",
    "routes_df = routes_df.dropna()\n",
    "terminals_df = terminals_df.dropna()"
   ]
  },
  {
   "cell_type": "markdown",
   "id": "bf8bb0b17ddf37d3",
   "metadata": {},
   "source": [
    "## Countries"
   ]
  },
  {
   "cell_type": "code",
   "execution_count": 432,
   "id": "cefe2019945bb4cf",
   "metadata": {
    "ExecuteTime": {
     "end_time": "2025-01-08T18:40:19.459905Z",
     "start_time": "2025-01-08T18:40:19.456957Z"
    }
   },
   "outputs": [
    {
     "data": {
      "text/html": [
       "<div>\n",
       "<style scoped>\n",
       "    .dataframe tbody tr th:only-of-type {\n",
       "        vertical-align: middle;\n",
       "    }\n",
       "\n",
       "    .dataframe tbody tr th {\n",
       "        vertical-align: top;\n",
       "    }\n",
       "\n",
       "    .dataframe thead th {\n",
       "        text-align: right;\n",
       "    }\n",
       "</style>\n",
       "<table border=\"1\" class=\"dataframe\">\n",
       "  <thead>\n",
       "    <tr style=\"text-align: right;\">\n",
       "      <th></th>\n",
       "      <th>name</th>\n",
       "      <th>iso_code</th>\n",
       "      <th>dafif_code</th>\n",
       "    </tr>\n",
       "  </thead>\n",
       "  <tbody>\n",
       "    <tr>\n",
       "      <th>1</th>\n",
       "      <td>Aruba</td>\n",
       "      <td>AW</td>\n",
       "      <td>AA</td>\n",
       "    </tr>\n",
       "    <tr>\n",
       "      <th>2</th>\n",
       "      <td>Antigua and Barbuda</td>\n",
       "      <td>AG</td>\n",
       "      <td>AC</td>\n",
       "    </tr>\n",
       "    <tr>\n",
       "      <th>3</th>\n",
       "      <td>United Arab Emirates</td>\n",
       "      <td>AE</td>\n",
       "      <td>AE</td>\n",
       "    </tr>\n",
       "    <tr>\n",
       "      <th>4</th>\n",
       "      <td>Afghanistan</td>\n",
       "      <td>AF</td>\n",
       "      <td>AF</td>\n",
       "    </tr>\n",
       "    <tr>\n",
       "      <th>5</th>\n",
       "      <td>Algeria</td>\n",
       "      <td>DZ</td>\n",
       "      <td>AG</td>\n",
       "    </tr>\n",
       "    <tr>\n",
       "      <th>...</th>\n",
       "      <td>...</td>\n",
       "      <td>...</td>\n",
       "      <td>...</td>\n",
       "    </tr>\n",
       "    <tr>\n",
       "      <th>256</th>\n",
       "      <td>Samoa</td>\n",
       "      <td>WS</td>\n",
       "      <td>WS</td>\n",
       "    </tr>\n",
       "    <tr>\n",
       "      <th>257</th>\n",
       "      <td>Eswatini</td>\n",
       "      <td>SZ</td>\n",
       "      <td>WZ</td>\n",
       "    </tr>\n",
       "    <tr>\n",
       "      <th>258</th>\n",
       "      <td>Yemen</td>\n",
       "      <td>YE</td>\n",
       "      <td>YM</td>\n",
       "    </tr>\n",
       "    <tr>\n",
       "      <th>259</th>\n",
       "      <td>Zambia</td>\n",
       "      <td>ZM</td>\n",
       "      <td>ZA</td>\n",
       "    </tr>\n",
       "    <tr>\n",
       "      <th>260</th>\n",
       "      <td>Zimbabwe</td>\n",
       "      <td>ZW</td>\n",
       "      <td>ZI</td>\n",
       "    </tr>\n",
       "  </tbody>\n",
       "</table>\n",
       "<p>240 rows × 3 columns</p>\n",
       "</div>"
      ],
      "text/plain": [
       "                     name iso_code dafif_code\n",
       "1                   Aruba       AW         AA\n",
       "2     Antigua and Barbuda       AG         AC\n",
       "3    United Arab Emirates       AE         AE\n",
       "4             Afghanistan       AF         AF\n",
       "5                 Algeria       DZ         AG\n",
       "..                    ...      ...        ...\n",
       "256                 Samoa       WS         WS\n",
       "257              Eswatini       SZ         WZ\n",
       "258                 Yemen       YE         YM\n",
       "259                Zambia       ZM         ZA\n",
       "260              Zimbabwe       ZW         ZI\n",
       "\n",
       "[240 rows x 3 columns]"
      ]
     },
     "execution_count": 432,
     "metadata": {},
     "output_type": "execute_result"
    }
   ],
   "source": [
    "countries_df"
   ]
  },
  {
   "cell_type": "code",
   "execution_count": 433,
   "id": "aafdd3465c71d122",
   "metadata": {
    "ExecuteTime": {
     "end_time": "2025-01-08T18:40:19.678308Z",
     "start_time": "2025-01-08T18:40:19.481628Z"
    }
   },
   "outputs": [
    {
     "data": {
      "application/vnd.jupyter.widget-view+json": {
       "model_id": "dedb2229b26b455f98ee79140e71a734",
       "version_major": 2,
       "version_minor": 0
      },
      "text/plain": [
       "  0%|          | 0/240 [00:00<?, ?it/s]"
      ]
     },
     "metadata": {},
     "output_type": "display_data"
    }
   ],
   "source": [
    "# upload each country to the db\n",
    "for _, row in tqdm(countries_df.iterrows(), total=len(countries_df)):\n",
    "    with driver.session() as session:\n",
    "        session.run(\n",
    "            \"MERGE (c:Country {name: $name, iso_code: $iso_code, dafif_code: $dafif_code})\",\n",
    "            name=row[\"name\"],\n",
    "            iso_code=row[\"iso_code\"],\n",
    "            dafif_code=row[\"dafif_code\"],\n",
    "        )"
   ]
  },
  {
   "cell_type": "markdown",
   "id": "43fe2edc72a152ef",
   "metadata": {},
   "source": [
    "## Airlines"
   ]
  },
  {
   "cell_type": "code",
   "execution_count": 434,
   "id": "80bb15b69d1350c5",
   "metadata": {
    "ExecuteTime": {
     "end_time": "2025-01-08T18:40:19.697963Z",
     "start_time": "2025-01-08T18:40:19.694266Z"
    }
   },
   "outputs": [
    {
     "data": {
      "text/html": [
       "<div>\n",
       "<style scoped>\n",
       "    .dataframe tbody tr th:only-of-type {\n",
       "        vertical-align: middle;\n",
       "    }\n",
       "\n",
       "    .dataframe tbody tr th {\n",
       "        vertical-align: top;\n",
       "    }\n",
       "\n",
       "    .dataframe thead th {\n",
       "        text-align: right;\n",
       "    }\n",
       "</style>\n",
       "<table border=\"1\" class=\"dataframe\">\n",
       "  <thead>\n",
       "    <tr style=\"text-align: right;\">\n",
       "      <th></th>\n",
       "      <th>airline_id</th>\n",
       "      <th>name</th>\n",
       "      <th>alias</th>\n",
       "      <th>iata</th>\n",
       "      <th>icao</th>\n",
       "      <th>callsign</th>\n",
       "      <th>country</th>\n",
       "      <th>active</th>\n",
       "    </tr>\n",
       "  </thead>\n",
       "  <tbody>\n",
       "    <tr>\n",
       "      <th>324</th>\n",
       "      <td>324</td>\n",
       "      <td>All Nippon Airways</td>\n",
       "      <td>ANA All Nippon Airways</td>\n",
       "      <td>NH</td>\n",
       "      <td>ANA</td>\n",
       "      <td>ALL NIPPON</td>\n",
       "      <td>Japan</td>\n",
       "      <td>Y</td>\n",
       "    </tr>\n",
       "    <tr>\n",
       "      <th>576</th>\n",
       "      <td>576</td>\n",
       "      <td>AirAsia</td>\n",
       "      <td>Air Asia</td>\n",
       "      <td>AK</td>\n",
       "      <td>AXM</td>\n",
       "      <td>ASIAN EXPRESS</td>\n",
       "      <td>Malaysia</td>\n",
       "      <td>Y</td>\n",
       "    </tr>\n",
       "    <tr>\n",
       "      <th>641</th>\n",
       "      <td>641</td>\n",
       "      <td>Rossiya-Russian Airlines</td>\n",
       "      <td>Pulkovo Aviation Enterprise</td>\n",
       "      <td>FV</td>\n",
       "      <td>SDM</td>\n",
       "      <td>PULKOVO</td>\n",
       "      <td>Russia</td>\n",
       "      <td>Y</td>\n",
       "    </tr>\n",
       "    <tr>\n",
       "      <th>1436</th>\n",
       "      <td>1437</td>\n",
       "      <td>bmi</td>\n",
       "      <td>bmi British Midland</td>\n",
       "      <td>BD</td>\n",
       "      <td>BMA</td>\n",
       "      <td>MIDLAND</td>\n",
       "      <td>United Kingdom</td>\n",
       "      <td>Y</td>\n",
       "    </tr>\n",
       "    <tr>\n",
       "      <th>1530</th>\n",
       "      <td>1531</td>\n",
       "      <td>Brussels Airlines</td>\n",
       "      <td>SN Brussels Airlines</td>\n",
       "      <td>SN</td>\n",
       "      <td>DAT</td>\n",
       "      <td>BEE-LINE</td>\n",
       "      <td>Belgium</td>\n",
       "      <td>Y</td>\n",
       "    </tr>\n",
       "    <tr>\n",
       "      <th>...</th>\n",
       "      <td>...</td>\n",
       "      <td>...</td>\n",
       "      <td>...</td>\n",
       "      <td>...</td>\n",
       "      <td>...</td>\n",
       "      <td>...</td>\n",
       "      <td>...</td>\n",
       "      <td>...</td>\n",
       "    </tr>\n",
       "    <tr>\n",
       "      <th>6028</th>\n",
       "      <td>19774</td>\n",
       "      <td>Spike Airlines</td>\n",
       "      <td>Aero Spike</td>\n",
       "      <td>S0</td>\n",
       "      <td>SAL</td>\n",
       "      <td>Spike Air</td>\n",
       "      <td>United States</td>\n",
       "      <td>Y</td>\n",
       "    </tr>\n",
       "    <tr>\n",
       "      <th>6063</th>\n",
       "      <td>19974</td>\n",
       "      <td>SOCHI AIR EXPRESS</td>\n",
       "      <td>ADLER EXPRESS</td>\n",
       "      <td>Q4</td>\n",
       "      <td>SAE</td>\n",
       "      <td>ADLER EXPRESS</td>\n",
       "      <td>Russia</td>\n",
       "      <td>Y</td>\n",
       "    </tr>\n",
       "    <tr>\n",
       "      <th>6096</th>\n",
       "      <td>20285</td>\n",
       "      <td>WestJet Encore</td>\n",
       "      <td>Encore</td>\n",
       "      <td>WR</td>\n",
       "      <td>WEN</td>\n",
       "      <td>Encore</td>\n",
       "      <td>Canada</td>\n",
       "      <td>Y</td>\n",
       "    </tr>\n",
       "    <tr>\n",
       "      <th>6153</th>\n",
       "      <td>21131</td>\n",
       "      <td>All America BOPY</td>\n",
       "      <td>All America BOPY</td>\n",
       "      <td>0P</td>\n",
       "      <td>PYB</td>\n",
       "      <td>BOPY</td>\n",
       "      <td>Paraguay</td>\n",
       "      <td>Y</td>\n",
       "    </tr>\n",
       "    <tr>\n",
       "      <th>6161</th>\n",
       "      <td>21317</td>\n",
       "      <td>Svyaz Rossiya</td>\n",
       "      <td>Russian Commuter</td>\n",
       "      <td>7R</td>\n",
       "      <td>SJM</td>\n",
       "      <td>RussianConnecty</td>\n",
       "      <td>Russia</td>\n",
       "      <td>Y</td>\n",
       "    </tr>\n",
       "  </tbody>\n",
       "</table>\n",
       "<p>84 rows × 8 columns</p>\n",
       "</div>"
      ],
      "text/plain": [
       "      airline_id                      name                        alias iata  \\\n",
       "324          324        All Nippon Airways       ANA All Nippon Airways   NH   \n",
       "576          576                   AirAsia                     Air Asia   AK   \n",
       "641          641  Rossiya-Russian Airlines  Pulkovo Aviation Enterprise   FV   \n",
       "1436        1437                       bmi          bmi British Midland   BD   \n",
       "1530        1531         Brussels Airlines         SN Brussels Airlines   SN   \n",
       "...          ...                       ...                          ...  ...   \n",
       "6028       19774            Spike Airlines                   Aero Spike   S0   \n",
       "6063       19974         SOCHI AIR EXPRESS                ADLER EXPRESS   Q4   \n",
       "6096       20285            WestJet Encore                       Encore   WR   \n",
       "6153       21131          All America BOPY             All America BOPY   0P   \n",
       "6161       21317             Svyaz Rossiya            Russian Commuter    7R   \n",
       "\n",
       "     icao         callsign         country active  \n",
       "324   ANA       ALL NIPPON           Japan      Y  \n",
       "576   AXM    ASIAN EXPRESS        Malaysia      Y  \n",
       "641   SDM          PULKOVO          Russia      Y  \n",
       "1436  BMA          MIDLAND  United Kingdom      Y  \n",
       "1530  DAT         BEE-LINE         Belgium      Y  \n",
       "...   ...              ...             ...    ...  \n",
       "6028  SAL        Spike Air   United States      Y  \n",
       "6063  SAE    ADLER EXPRESS          Russia      Y  \n",
       "6096  WEN           Encore          Canada      Y  \n",
       "6153  PYB             BOPY        Paraguay      Y  \n",
       "6161  SJM  RussianConnecty          Russia      Y  \n",
       "\n",
       "[84 rows x 8 columns]"
      ]
     },
     "execution_count": 434,
     "metadata": {},
     "output_type": "execute_result"
    }
   ],
   "source": [
    "airlines_df"
   ]
  },
  {
   "cell_type": "code",
   "execution_count": 435,
   "id": "82f3e50b84fa3d38",
   "metadata": {
    "ExecuteTime": {
     "end_time": "2025-01-08T18:40:19.724179Z",
     "start_time": "2025-01-08T18:40:19.722276Z"
    }
   },
   "outputs": [
    {
     "data": {
      "text/plain": [
       "Index(['airline_id', 'name', 'alias', 'iata', 'icao', 'callsign', 'country',\n",
       "       'active'],\n",
       "      dtype='object')"
      ]
     },
     "execution_count": 435,
     "metadata": {},
     "output_type": "execute_result"
    }
   ],
   "source": [
    "airlines_df.columns"
   ]
  },
  {
   "cell_type": "code",
   "execution_count": 436,
   "id": "ee707495bd71c74",
   "metadata": {
    "ExecuteTime": {
     "end_time": "2025-01-08T18:40:19.895170Z",
     "start_time": "2025-01-08T18:40:19.752332Z"
    }
   },
   "outputs": [
    {
     "data": {
      "application/vnd.jupyter.widget-view+json": {
       "model_id": "b0a181d08c7d45c197a901a89c11b538",
       "version_major": 2,
       "version_minor": 0
      },
      "text/plain": [
       "  0%|          | 0/84 [00:00<?, ?it/s]"
      ]
     },
     "metadata": {},
     "output_type": "display_data"
    }
   ],
   "source": [
    "with driver.session() as session:\n",
    "    for _, row in tqdm(airlines_df.iterrows(), total=len(airlines_df)):\n",
    "            session.run(\n",
    "                \"MERGE (a:Airline {id: $airline_id, name: $name, alias: $alias, iata: $iata, icao: $icao, callsign: $callsign, active: $active, country: $country})\",\n",
    "                airline_id=row[\"airline_id\"],\n",
    "                name=row[\"name\"],\n",
    "                alias=row[\"alias\"],\n",
    "                iata=row[\"iata\"],\n",
    "                icao=row[\"icao\"],\n",
    "                callsign=row[\"callsign\"],\n",
    "                country=row[\"country\"],\n",
    "                active=row[\"active\"],\n",
    "            )\n",
    "            # math the airline with its country\n",
    "            session.run(\n",
    "                \"\"\"\n",
    "                MATCH (a:Airline {name: $name}),\n",
    "                      (c:Country {name: $country})\n",
    "                MERGE (a)-[:BASED_FROM]->(c)\n",
    "                \"\"\",\n",
    "                name=row[\"name\"],\n",
    "                country=row[\"country\"]\n",
    "            )"
   ]
  },
  {
   "cell_type": "markdown",
   "id": "d0a13bdfaae1b30b",
   "metadata": {},
   "source": [
    "## Planes"
   ]
  },
  {
   "cell_type": "code",
   "execution_count": 437,
   "id": "882a12f4247074c5",
   "metadata": {
    "ExecuteTime": {
     "end_time": "2025-01-08T18:40:19.899999Z",
     "start_time": "2025-01-08T18:40:19.897130Z"
    }
   },
   "outputs": [
    {
     "data": {
      "text/html": [
       "<div>\n",
       "<style scoped>\n",
       "    .dataframe tbody tr th:only-of-type {\n",
       "        vertical-align: middle;\n",
       "    }\n",
       "\n",
       "    .dataframe tbody tr th {\n",
       "        vertical-align: top;\n",
       "    }\n",
       "\n",
       "    .dataframe thead th {\n",
       "        text-align: right;\n",
       "    }\n",
       "</style>\n",
       "<table border=\"1\" class=\"dataframe\">\n",
       "  <thead>\n",
       "    <tr style=\"text-align: right;\">\n",
       "      <th></th>\n",
       "      <th>name</th>\n",
       "      <th>iata</th>\n",
       "      <th>icao</th>\n",
       "    </tr>\n",
       "  </thead>\n",
       "  <tbody>\n",
       "    <tr>\n",
       "      <th>0</th>\n",
       "      <td>Aerospatiale (Nord) 262</td>\n",
       "      <td>ND2</td>\n",
       "      <td>N262</td>\n",
       "    </tr>\n",
       "    <tr>\n",
       "      <th>1</th>\n",
       "      <td>Aerospatiale (Sud Aviation) Se.210 Caravelle</td>\n",
       "      <td>CRV</td>\n",
       "      <td>S210</td>\n",
       "    </tr>\n",
       "    <tr>\n",
       "      <th>2</th>\n",
       "      <td>Aerospatiale SN.601 Corvette</td>\n",
       "      <td>NDC</td>\n",
       "      <td>S601</td>\n",
       "    </tr>\n",
       "    <tr>\n",
       "      <th>3</th>\n",
       "      <td>Aerospatiale/Alenia ATR 42-300</td>\n",
       "      <td>AT4</td>\n",
       "      <td>AT43</td>\n",
       "    </tr>\n",
       "    <tr>\n",
       "      <th>4</th>\n",
       "      <td>Aerospatiale/Alenia ATR 42-500</td>\n",
       "      <td>AT5</td>\n",
       "      <td>AT45</td>\n",
       "    </tr>\n",
       "    <tr>\n",
       "      <th>...</th>\n",
       "      <td>...</td>\n",
       "      <td>...</td>\n",
       "      <td>...</td>\n",
       "    </tr>\n",
       "    <tr>\n",
       "      <th>240</th>\n",
       "      <td>Tupolev Tu-134</td>\n",
       "      <td>TU3</td>\n",
       "      <td>T134</td>\n",
       "    </tr>\n",
       "    <tr>\n",
       "      <th>242</th>\n",
       "      <td>Tupolev Tu-154</td>\n",
       "      <td>TU5</td>\n",
       "      <td>T154</td>\n",
       "    </tr>\n",
       "    <tr>\n",
       "      <th>243</th>\n",
       "      <td>Tupolev Tu-204</td>\n",
       "      <td>T20</td>\n",
       "      <td>T204</td>\n",
       "    </tr>\n",
       "    <tr>\n",
       "      <th>244</th>\n",
       "      <td>Yakovlev Yak-40</td>\n",
       "      <td>YK4</td>\n",
       "      <td>YK40</td>\n",
       "    </tr>\n",
       "    <tr>\n",
       "      <th>245</th>\n",
       "      <td>Yakovlev Yak-42</td>\n",
       "      <td>YK2</td>\n",
       "      <td>YK42</td>\n",
       "    </tr>\n",
       "  </tbody>\n",
       "</table>\n",
       "<p>220 rows × 3 columns</p>\n",
       "</div>"
      ],
      "text/plain": [
       "                                             name iata  icao\n",
       "0                         Aerospatiale (Nord) 262  ND2  N262\n",
       "1    Aerospatiale (Sud Aviation) Se.210 Caravelle  CRV  S210\n",
       "2                    Aerospatiale SN.601 Corvette  NDC  S601\n",
       "3                  Aerospatiale/Alenia ATR 42-300  AT4  AT43\n",
       "4                  Aerospatiale/Alenia ATR 42-500  AT5  AT45\n",
       "..                                            ...  ...   ...\n",
       "240                                Tupolev Tu-134  TU3  T134\n",
       "242                                Tupolev Tu-154  TU5  T154\n",
       "243                                Tupolev Tu-204  T20  T204\n",
       "244                               Yakovlev Yak-40  YK4  YK40\n",
       "245                               Yakovlev Yak-42  YK2  YK42\n",
       "\n",
       "[220 rows x 3 columns]"
      ]
     },
     "execution_count": 437,
     "metadata": {},
     "output_type": "execute_result"
    }
   ],
   "source": [
    "planes_df"
   ]
  },
  {
   "cell_type": "code",
   "execution_count": 438,
   "id": "7139675cd19862f",
   "metadata": {
    "ExecuteTime": {
     "end_time": "2025-01-08T18:40:19.922138Z",
     "start_time": "2025-01-08T18:40:19.920157Z"
    }
   },
   "outputs": [
    {
     "data": {
      "text/plain": [
       "Index(['name', 'iata', 'icao'], dtype='object')"
      ]
     },
     "execution_count": 438,
     "metadata": {},
     "output_type": "execute_result"
    }
   ],
   "source": [
    "planes_df.columns"
   ]
  },
  {
   "cell_type": "code",
   "execution_count": 439,
   "id": "93a3b5001c37633",
   "metadata": {
    "ExecuteTime": {
     "end_time": "2025-01-08T18:40:20.091331Z",
     "start_time": "2025-01-08T18:40:19.944561Z"
    }
   },
   "outputs": [
    {
     "data": {
      "application/vnd.jupyter.widget-view+json": {
       "model_id": "8350458947454a9e855afb0bb05306e9",
       "version_major": 2,
       "version_minor": 0
      },
      "text/plain": [
       "  0%|          | 0/220 [00:00<?, ?it/s]"
      ]
     },
     "metadata": {},
     "output_type": "display_data"
    }
   ],
   "source": [
    "with driver.session() as session:\n",
    "    for _, row in tqdm(planes_df.iterrows(), total=len(planes_df)):\n",
    "            session.run(\n",
    "                \"MERGE (p:PlaneType {name: $name, iata: $iata, icao: $icao})\",\n",
    "                name=row[\"name\"],\n",
    "                iata=row[\"iata\"],\n",
    "                icao=row[\"icao\"],\n",
    "            )"
   ]
  },
  {
   "cell_type": "markdown",
   "id": "8ec3b15b2575a145",
   "metadata": {},
   "source": [
    "## Terminals"
   ]
  },
  {
   "cell_type": "code",
   "execution_count": 440,
   "id": "722b3d69c16e6edc",
   "metadata": {
    "ExecuteTime": {
     "end_time": "2025-01-08T18:40:20.098136Z",
     "start_time": "2025-01-08T18:40:20.093284Z"
    }
   },
   "outputs": [
    {
     "data": {
      "text/html": [
       "<div>\n",
       "<style scoped>\n",
       "    .dataframe tbody tr th:only-of-type {\n",
       "        vertical-align: middle;\n",
       "    }\n",
       "\n",
       "    .dataframe tbody tr th {\n",
       "        vertical-align: top;\n",
       "    }\n",
       "\n",
       "    .dataframe thead th {\n",
       "        text-align: right;\n",
       "    }\n",
       "</style>\n",
       "<table border=\"1\" class=\"dataframe\">\n",
       "  <thead>\n",
       "    <tr style=\"text-align: right;\">\n",
       "      <th></th>\n",
       "      <th>airport_id</th>\n",
       "      <th>name</th>\n",
       "      <th>city</th>\n",
       "      <th>country</th>\n",
       "      <th>iata</th>\n",
       "      <th>icao</th>\n",
       "      <th>latitude</th>\n",
       "      <th>longitude</th>\n",
       "      <th>altitude</th>\n",
       "      <th>timezone</th>\n",
       "      <th>dst</th>\n",
       "      <th>tz</th>\n",
       "      <th>type</th>\n",
       "      <th>source</th>\n",
       "    </tr>\n",
       "  </thead>\n",
       "  <tbody>\n",
       "    <tr>\n",
       "      <th>0</th>\n",
       "      <td>1</td>\n",
       "      <td>Goroka Airport</td>\n",
       "      <td>Goroka</td>\n",
       "      <td>Papua New Guinea</td>\n",
       "      <td>GKA</td>\n",
       "      <td>AYGA</td>\n",
       "      <td>-6.081690</td>\n",
       "      <td>145.391998</td>\n",
       "      <td>5282</td>\n",
       "      <td>10</td>\n",
       "      <td>U</td>\n",
       "      <td>Pacific/Port_Moresby</td>\n",
       "      <td>airport</td>\n",
       "      <td>OurAirports</td>\n",
       "    </tr>\n",
       "    <tr>\n",
       "      <th>1</th>\n",
       "      <td>2</td>\n",
       "      <td>Madang Airport</td>\n",
       "      <td>Madang</td>\n",
       "      <td>Papua New Guinea</td>\n",
       "      <td>MAG</td>\n",
       "      <td>AYMD</td>\n",
       "      <td>-5.207080</td>\n",
       "      <td>145.789001</td>\n",
       "      <td>20</td>\n",
       "      <td>10</td>\n",
       "      <td>U</td>\n",
       "      <td>Pacific/Port_Moresby</td>\n",
       "      <td>airport</td>\n",
       "      <td>OurAirports</td>\n",
       "    </tr>\n",
       "    <tr>\n",
       "      <th>2</th>\n",
       "      <td>3</td>\n",
       "      <td>Mount Hagen Kagamuga Airport</td>\n",
       "      <td>Mount Hagen</td>\n",
       "      <td>Papua New Guinea</td>\n",
       "      <td>HGU</td>\n",
       "      <td>AYMH</td>\n",
       "      <td>-5.826790</td>\n",
       "      <td>144.296005</td>\n",
       "      <td>5388</td>\n",
       "      <td>10</td>\n",
       "      <td>U</td>\n",
       "      <td>Pacific/Port_Moresby</td>\n",
       "      <td>airport</td>\n",
       "      <td>OurAirports</td>\n",
       "    </tr>\n",
       "    <tr>\n",
       "      <th>3</th>\n",
       "      <td>4</td>\n",
       "      <td>Nadzab Airport</td>\n",
       "      <td>Nadzab</td>\n",
       "      <td>Papua New Guinea</td>\n",
       "      <td>LAE</td>\n",
       "      <td>AYNZ</td>\n",
       "      <td>-6.569803</td>\n",
       "      <td>146.725977</td>\n",
       "      <td>239</td>\n",
       "      <td>10</td>\n",
       "      <td>U</td>\n",
       "      <td>Pacific/Port_Moresby</td>\n",
       "      <td>airport</td>\n",
       "      <td>OurAirports</td>\n",
       "    </tr>\n",
       "    <tr>\n",
       "      <th>4</th>\n",
       "      <td>5</td>\n",
       "      <td>Port Moresby Jacksons International Airport</td>\n",
       "      <td>Port Moresby</td>\n",
       "      <td>Papua New Guinea</td>\n",
       "      <td>POM</td>\n",
       "      <td>AYPY</td>\n",
       "      <td>-9.443380</td>\n",
       "      <td>147.220001</td>\n",
       "      <td>146</td>\n",
       "      <td>10</td>\n",
       "      <td>U</td>\n",
       "      <td>Pacific/Port_Moresby</td>\n",
       "      <td>airport</td>\n",
       "      <td>OurAirports</td>\n",
       "    </tr>\n",
       "    <tr>\n",
       "      <th>...</th>\n",
       "      <td>...</td>\n",
       "      <td>...</td>\n",
       "      <td>...</td>\n",
       "      <td>...</td>\n",
       "      <td>...</td>\n",
       "      <td>...</td>\n",
       "      <td>...</td>\n",
       "      <td>...</td>\n",
       "      <td>...</td>\n",
       "      <td>...</td>\n",
       "      <td>...</td>\n",
       "      <td>...</td>\n",
       "      <td>...</td>\n",
       "      <td>...</td>\n",
       "    </tr>\n",
       "    <tr>\n",
       "      <th>8494</th>\n",
       "      <td>9935</td>\n",
       "      <td>Kualanamu International Airport</td>\n",
       "      <td>Medan</td>\n",
       "      <td>Indonesia</td>\n",
       "      <td>KNO</td>\n",
       "      <td>WIMM</td>\n",
       "      <td>3.642222</td>\n",
       "      <td>98.885278</td>\n",
       "      <td>23</td>\n",
       "      <td>7</td>\n",
       "      <td>N</td>\n",
       "      <td>Asia/Jakarta</td>\n",
       "      <td>airport</td>\n",
       "      <td>OurAirports</td>\n",
       "    </tr>\n",
       "    <tr>\n",
       "      <th>8672</th>\n",
       "      <td>10114</td>\n",
       "      <td>Chichen Itza International Airport</td>\n",
       "      <td>Chichen Itza</td>\n",
       "      <td>Mexico</td>\n",
       "      <td>CZA</td>\n",
       "      <td>MMCT</td>\n",
       "      <td>20.641300</td>\n",
       "      <td>-88.446198</td>\n",
       "      <td>102</td>\n",
       "      <td>-6</td>\n",
       "      <td>S</td>\n",
       "      <td>America/Mexico_City</td>\n",
       "      <td>airport</td>\n",
       "      <td>OurAirports</td>\n",
       "    </tr>\n",
       "    <tr>\n",
       "      <th>8693</th>\n",
       "      <td>10135</td>\n",
       "      <td>San Cristobal de las Casas Airport</td>\n",
       "      <td>San Cristobal de las Casas</td>\n",
       "      <td>Mexico</td>\n",
       "      <td>SZT</td>\n",
       "      <td>MMSC</td>\n",
       "      <td>16.690300</td>\n",
       "      <td>-92.530098</td>\n",
       "      <td>7707</td>\n",
       "      <td>-6</td>\n",
       "      <td>N</td>\n",
       "      <td>America/Mexico_City</td>\n",
       "      <td>airport</td>\n",
       "      <td>OurAirports</td>\n",
       "    </tr>\n",
       "    <tr>\n",
       "      <th>8713</th>\n",
       "      <td>10156</td>\n",
       "      <td>Yeysk Airport</td>\n",
       "      <td>Eysk</td>\n",
       "      <td>Russia</td>\n",
       "      <td>EIK</td>\n",
       "      <td>URKE</td>\n",
       "      <td>46.680000</td>\n",
       "      <td>38.210000</td>\n",
       "      <td>60</td>\n",
       "      <td>3</td>\n",
       "      <td>N</td>\n",
       "      <td>Europe/Moscow</td>\n",
       "      <td>airport</td>\n",
       "      <td>OurAirports</td>\n",
       "    </tr>\n",
       "    <tr>\n",
       "      <th>9509</th>\n",
       "      <td>10952</td>\n",
       "      <td>Magas Airport</td>\n",
       "      <td>Magas</td>\n",
       "      <td>Russia</td>\n",
       "      <td>IGT</td>\n",
       "      <td>URMS</td>\n",
       "      <td>43.322300</td>\n",
       "      <td>45.012600</td>\n",
       "      <td>1165</td>\n",
       "      <td>3</td>\n",
       "      <td>N</td>\n",
       "      <td>Europe/Moscow</td>\n",
       "      <td>airport</td>\n",
       "      <td>OurAirports</td>\n",
       "    </tr>\n",
       "  </tbody>\n",
       "</table>\n",
       "<p>5586 rows × 14 columns</p>\n",
       "</div>"
      ],
      "text/plain": [
       "      airport_id                                         name  \\\n",
       "0              1                               Goroka Airport   \n",
       "1              2                               Madang Airport   \n",
       "2              3                 Mount Hagen Kagamuga Airport   \n",
       "3              4                               Nadzab Airport   \n",
       "4              5  Port Moresby Jacksons International Airport   \n",
       "...          ...                                          ...   \n",
       "8494        9935              Kualanamu International Airport   \n",
       "8672       10114           Chichen Itza International Airport   \n",
       "8693       10135           San Cristobal de las Casas Airport   \n",
       "8713       10156                                Yeysk Airport   \n",
       "9509       10952                                Magas Airport   \n",
       "\n",
       "                            city           country iata  icao   latitude  \\\n",
       "0                         Goroka  Papua New Guinea  GKA  AYGA  -6.081690   \n",
       "1                         Madang  Papua New Guinea  MAG  AYMD  -5.207080   \n",
       "2                    Mount Hagen  Papua New Guinea  HGU  AYMH  -5.826790   \n",
       "3                         Nadzab  Papua New Guinea  LAE  AYNZ  -6.569803   \n",
       "4                   Port Moresby  Papua New Guinea  POM  AYPY  -9.443380   \n",
       "...                          ...               ...  ...   ...        ...   \n",
       "8494                       Medan         Indonesia  KNO  WIMM   3.642222   \n",
       "8672                Chichen Itza            Mexico  CZA  MMCT  20.641300   \n",
       "8693  San Cristobal de las Casas            Mexico  SZT  MMSC  16.690300   \n",
       "8713                        Eysk            Russia  EIK  URKE  46.680000   \n",
       "9509                       Magas            Russia  IGT  URMS  43.322300   \n",
       "\n",
       "       longitude  altitude timezone dst                    tz     type  \\\n",
       "0     145.391998      5282       10   U  Pacific/Port_Moresby  airport   \n",
       "1     145.789001        20       10   U  Pacific/Port_Moresby  airport   \n",
       "2     144.296005      5388       10   U  Pacific/Port_Moresby  airport   \n",
       "3     146.725977       239       10   U  Pacific/Port_Moresby  airport   \n",
       "4     147.220001       146       10   U  Pacific/Port_Moresby  airport   \n",
       "...          ...       ...      ...  ..                   ...      ...   \n",
       "8494   98.885278        23        7   N          Asia/Jakarta  airport   \n",
       "8672  -88.446198       102       -6   S   America/Mexico_City  airport   \n",
       "8693  -92.530098      7707       -6   N   America/Mexico_City  airport   \n",
       "8713   38.210000        60        3   N         Europe/Moscow  airport   \n",
       "9509   45.012600      1165        3   N         Europe/Moscow  airport   \n",
       "\n",
       "           source  \n",
       "0     OurAirports  \n",
       "1     OurAirports  \n",
       "2     OurAirports  \n",
       "3     OurAirports  \n",
       "4     OurAirports  \n",
       "...           ...  \n",
       "8494  OurAirports  \n",
       "8672  OurAirports  \n",
       "8693  OurAirports  \n",
       "8713  OurAirports  \n",
       "9509  OurAirports  \n",
       "\n",
       "[5586 rows x 14 columns]"
      ]
     },
     "execution_count": 440,
     "metadata": {},
     "output_type": "execute_result"
    }
   ],
   "source": [
    "terminals_df"
   ]
  },
  {
   "cell_type": "code",
   "execution_count": 441,
   "id": "6c30983294d22554",
   "metadata": {
    "ExecuteTime": {
     "end_time": "2025-01-08T18:40:20.121616Z",
     "start_time": "2025-01-08T18:40:20.119736Z"
    }
   },
   "outputs": [
    {
     "data": {
      "text/plain": [
       "Index(['airport_id', 'name', 'city', 'country', 'iata', 'icao', 'latitude',\n",
       "       'longitude', 'altitude', 'timezone', 'dst', 'tz', 'type', 'source'],\n",
       "      dtype='object')"
      ]
     },
     "execution_count": 441,
     "metadata": {},
     "output_type": "execute_result"
    }
   ],
   "source": [
    "terminals_df.columns"
   ]
  },
  {
   "cell_type": "code",
   "execution_count": 442,
   "id": "b65c0febf504c167",
   "metadata": {
    "ExecuteTime": {
     "end_time": "2025-01-08T18:41:09.863050Z",
     "start_time": "2025-01-08T18:40:20.142049Z"
    }
   },
   "outputs": [
    {
     "data": {
      "application/vnd.jupyter.widget-view+json": {
       "model_id": "cbcaa798f28f46d8bf5f182921129f6f",
       "version_major": 2,
       "version_minor": 0
      },
      "text/plain": [
       "  0%|          | 0/5586 [00:00<?, ?it/s]"
      ]
     },
     "metadata": {},
     "output_type": "display_data"
    }
   ],
   "source": [
    "with driver.session() as session:\n",
    "    for _, row in tqdm(terminals_df.iterrows(), total=len(terminals_df)):\n",
    "        height_meters = row[\"altitude\"] * 0.3048  # convert feet to meters\n",
    "        session.run(\n",
    "            \"MERGE (t:Terminal {airport_id: $airport_id, name: $name, iata: $iata, icao: $icao, type: $type, source: $source, location: point({latitude: $latitude, longitude: $longitude, height: $height_meters})})\",\n",
    "            airport_id=row[\"airport_id\"],\n",
    "            name=row[\"name\"],\n",
    "            # city=row[\"city\"],\n",
    "            # country=row[\"country\"],\n",
    "            iata=row[\"iata\"],\n",
    "            icao=row[\"icao\"],\n",
    "            latitude=row[\"latitude\"],\n",
    "            longitude=row[\"longitude\"],\n",
    "            altitude=row[\"altitude\"],\n",
    "            timezone=row[\"timezone\"],\n",
    "            # dst=row[\"dst\"],\n",
    "            # tz=row[\"tz\"],\n",
    "            type=row[\"type\"],\n",
    "            source=row[\"source\"],\n",
    "            height_meters=height_meters,\n",
    "        )\n",
    "        # create timezone node\n",
    "        session.run(\"MERGE (tz:Timezone {name: $name})\", name=row[\"timezone\"])\n",
    "\n",
    "        # create city node\n",
    "        session.run(\"MERGE (c:City {name: $city})\", city=row[\"city\"])\n",
    "        # match city with timezone\n",
    "        session.run(\n",
    "            \"\"\"\n",
    "            MATCH (c:City {name: $city}),\n",
    "                  (tz:Timezone {name: $timezone})\n",
    "            MERGE (c)-[:IN_TIMEZONE]->(tz)\n",
    "            \"\"\",\n",
    "            city=row[\"city\"],\n",
    "            timezone=row[\"timezone\"],\n",
    "        )\n",
    "        # match terminal with timezone\n",
    "        session.run(\n",
    "            \"\"\"\n",
    "            MATCH (t:Terminal {iata: $iata}),\n",
    "                  (tz:Timezone {name: $timezone})\n",
    "            MERGE (t)-[:IN_TIMEZONE]->(tz)\n",
    "            \"\"\",\n",
    "            iata=row[\"iata\"],\n",
    "            timezone=row[\"timezone\"],\n",
    "        )\n",
    "        # match terminal with city\n",
    "        session.run(\n",
    "            \"\"\"\n",
    "            MATCH (t:Terminal {iata: $iata}),\n",
    "                  (c:City {name: $city})\n",
    "            MERGE (t)-[:LOCATED_IN]->(c)\n",
    "            \"\"\",\n",
    "            iata=row[\"iata\"],\n",
    "            city=row[\"city\"],\n",
    "        )\n",
    "        # match terminal with country\n",
    "        session.run(\n",
    "            \"\"\"\n",
    "            MATCH (t:Terminal {iata: $iata}),\n",
    "                  (c:Country {name: $country})\n",
    "            MERGE (t)-[:LOCATED_IN]->(c)\n",
    "            \"\"\",\n",
    "            iata=row[\"iata\"],\n",
    "            country=row[\"country\"],\n",
    "        )\n",
    "        # match city with country\n",
    "        session.run(\n",
    "            \"\"\"\n",
    "            MATCH (c:City {name: $city}),\n",
    "                  (c:Country {name: $country})\n",
    "            MERGE (c)-[:LOCATED_IN]->(c)\n",
    "            \"\"\",\n",
    "            city=row[\"city\"],\n",
    "            country=row[\"country\"],\n",
    "        )"
   ]
  },
  {
   "cell_type": "markdown",
   "id": "4cba5816125fc6d9",
   "metadata": {},
   "source": [
    "## Routes"
   ]
  },
  {
   "cell_type": "code",
   "execution_count": 443,
   "id": "d179e0264269bf43",
   "metadata": {
    "ExecuteTime": {
     "end_time": "2025-01-08T18:41:09.881259Z",
     "start_time": "2025-01-08T18:41:09.871468Z"
    }
   },
   "outputs": [
    {
     "data": {
      "text/html": [
       "<div>\n",
       "<style scoped>\n",
       "    .dataframe tbody tr th:only-of-type {\n",
       "        vertical-align: middle;\n",
       "    }\n",
       "\n",
       "    .dataframe tbody tr th {\n",
       "        vertical-align: top;\n",
       "    }\n",
       "\n",
       "    .dataframe thead th {\n",
       "        text-align: right;\n",
       "    }\n",
       "</style>\n",
       "<table border=\"1\" class=\"dataframe\">\n",
       "  <thead>\n",
       "    <tr style=\"text-align: right;\">\n",
       "      <th></th>\n",
       "      <th>airline</th>\n",
       "      <th>airline_id</th>\n",
       "      <th>source_airport</th>\n",
       "      <th>source_airport_id</th>\n",
       "      <th>destination_airport</th>\n",
       "      <th>destination_airport_id</th>\n",
       "      <th>codeshare</th>\n",
       "      <th>stops</th>\n",
       "      <th>equipment</th>\n",
       "    </tr>\n",
       "  </thead>\n",
       "  <tbody>\n",
       "    <tr>\n",
       "      <th>187</th>\n",
       "      <td>2P</td>\n",
       "      <td>897</td>\n",
       "      <td>GES</td>\n",
       "      <td>2402</td>\n",
       "      <td>MNL</td>\n",
       "      <td>2397</td>\n",
       "      <td>Y</td>\n",
       "      <td>0</td>\n",
       "      <td>320</td>\n",
       "    </tr>\n",
       "    <tr>\n",
       "      <th>197</th>\n",
       "      <td>2P</td>\n",
       "      <td>897</td>\n",
       "      <td>MNL</td>\n",
       "      <td>2397</td>\n",
       "      <td>GES</td>\n",
       "      <td>2402</td>\n",
       "      <td>Y</td>\n",
       "      <td>0</td>\n",
       "      <td>320</td>\n",
       "    </tr>\n",
       "    <tr>\n",
       "      <th>1059</th>\n",
       "      <td>4M</td>\n",
       "      <td>3201</td>\n",
       "      <td>DFW</td>\n",
       "      <td>3670</td>\n",
       "      <td>EZE</td>\n",
       "      <td>3988</td>\n",
       "      <td>Y</td>\n",
       "      <td>0</td>\n",
       "      <td>777</td>\n",
       "    </tr>\n",
       "    <tr>\n",
       "      <th>1060</th>\n",
       "      <td>4M</td>\n",
       "      <td>3201</td>\n",
       "      <td>EZE</td>\n",
       "      <td>3988</td>\n",
       "      <td>DFW</td>\n",
       "      <td>3670</td>\n",
       "      <td>Y</td>\n",
       "      <td>0</td>\n",
       "      <td>777</td>\n",
       "    </tr>\n",
       "    <tr>\n",
       "      <th>1061</th>\n",
       "      <td>4M</td>\n",
       "      <td>3201</td>\n",
       "      <td>EZE</td>\n",
       "      <td>3988</td>\n",
       "      <td>JFK</td>\n",
       "      <td>3797</td>\n",
       "      <td>Y</td>\n",
       "      <td>0</td>\n",
       "      <td>777</td>\n",
       "    </tr>\n",
       "    <tr>\n",
       "      <th>...</th>\n",
       "      <td>...</td>\n",
       "      <td>...</td>\n",
       "      <td>...</td>\n",
       "      <td>...</td>\n",
       "      <td>...</td>\n",
       "      <td>...</td>\n",
       "      <td>...</td>\n",
       "      <td>...</td>\n",
       "      <td>...</td>\n",
       "    </tr>\n",
       "    <tr>\n",
       "      <th>67429</th>\n",
       "      <td>ZH</td>\n",
       "      <td>4611</td>\n",
       "      <td>ZHA</td>\n",
       "      <td>6357</td>\n",
       "      <td>PEK</td>\n",
       "      <td>3364</td>\n",
       "      <td>Y</td>\n",
       "      <td>0</td>\n",
       "      <td>737</td>\n",
       "    </tr>\n",
       "    <tr>\n",
       "      <th>67431</th>\n",
       "      <td>ZH</td>\n",
       "      <td>4611</td>\n",
       "      <td>ZUH</td>\n",
       "      <td>6355</td>\n",
       "      <td>CKG</td>\n",
       "      <td>3393</td>\n",
       "      <td>Y</td>\n",
       "      <td>0</td>\n",
       "      <td>737</td>\n",
       "    </tr>\n",
       "    <tr>\n",
       "      <th>67432</th>\n",
       "      <td>ZH</td>\n",
       "      <td>4611</td>\n",
       "      <td>ZUH</td>\n",
       "      <td>6355</td>\n",
       "      <td>CTU</td>\n",
       "      <td>3395</td>\n",
       "      <td>Y</td>\n",
       "      <td>0</td>\n",
       "      <td>319</td>\n",
       "    </tr>\n",
       "    <tr>\n",
       "      <th>67436</th>\n",
       "      <td>ZH</td>\n",
       "      <td>4611</td>\n",
       "      <td>ZUH</td>\n",
       "      <td>6355</td>\n",
       "      <td>PEK</td>\n",
       "      <td>3364</td>\n",
       "      <td>Y</td>\n",
       "      <td>0</td>\n",
       "      <td>737 320</td>\n",
       "    </tr>\n",
       "    <tr>\n",
       "      <th>67437</th>\n",
       "      <td>ZH</td>\n",
       "      <td>4611</td>\n",
       "      <td>ZYI</td>\n",
       "      <td>9846</td>\n",
       "      <td>PEK</td>\n",
       "      <td>3364</td>\n",
       "      <td>Y</td>\n",
       "      <td>0</td>\n",
       "      <td>737</td>\n",
       "    </tr>\n",
       "  </tbody>\n",
       "</table>\n",
       "<p>14557 rows × 9 columns</p>\n",
       "</div>"
      ],
      "text/plain": [
       "      airline airline_id source_airport source_airport_id destination_airport  \\\n",
       "187        2P        897            GES              2402                 MNL   \n",
       "197        2P        897            MNL              2397                 GES   \n",
       "1059       4M       3201            DFW              3670                 EZE   \n",
       "1060       4M       3201            EZE              3988                 DFW   \n",
       "1061       4M       3201            EZE              3988                 JFK   \n",
       "...       ...        ...            ...               ...                 ...   \n",
       "67429      ZH       4611            ZHA              6357                 PEK   \n",
       "67431      ZH       4611            ZUH              6355                 CKG   \n",
       "67432      ZH       4611            ZUH              6355                 CTU   \n",
       "67436      ZH       4611            ZUH              6355                 PEK   \n",
       "67437      ZH       4611            ZYI              9846                 PEK   \n",
       "\n",
       "      destination_airport_id codeshare  stops equipment  \n",
       "187                     2397         Y      0       320  \n",
       "197                     2402         Y      0       320  \n",
       "1059                    3988         Y      0       777  \n",
       "1060                    3670         Y      0       777  \n",
       "1061                    3797         Y      0       777  \n",
       "...                      ...       ...    ...       ...  \n",
       "67429                   3364         Y      0       737  \n",
       "67431                   3393         Y      0       737  \n",
       "67432                   3395         Y      0       319  \n",
       "67436                   3364         Y      0   737 320  \n",
       "67437                   3364         Y      0       737  \n",
       "\n",
       "[14557 rows x 9 columns]"
      ]
     },
     "execution_count": 443,
     "metadata": {},
     "output_type": "execute_result"
    }
   ],
   "source": [
    "routes_df"
   ]
  },
  {
   "cell_type": "code",
   "execution_count": 444,
   "id": "26af9a4cc39407be",
   "metadata": {
    "ExecuteTime": {
     "end_time": "2025-01-08T18:41:09.922876Z",
     "start_time": "2025-01-08T18:41:09.920619Z"
    }
   },
   "outputs": [
    {
     "data": {
      "text/plain": [
       "Index(['airline', 'airline_id', 'source_airport', 'source_airport_id',\n",
       "       'destination_airport', 'destination_airport_id', 'codeshare', 'stops',\n",
       "       'equipment'],\n",
       "      dtype='object')"
      ]
     },
     "execution_count": 444,
     "metadata": {},
     "output_type": "execute_result"
    }
   ],
   "source": [
    "routes_df.columns"
   ]
  },
  {
   "cell_type": "code",
   "execution_count": 445,
   "id": "483c9e41ded2113c",
   "metadata": {
    "ExecuteTime": {
     "end_time": "2025-01-08T18:41:27.271915Z",
     "start_time": "2025-01-08T18:41:09.991381Z"
    }
   },
   "outputs": [
    {
     "data": {
      "application/vnd.jupyter.widget-view+json": {
       "model_id": "b67891f5ccca4953ac49dca123af61bc",
       "version_major": 2,
       "version_minor": 0
      },
      "text/plain": [
       "  0%|          | 0/14557 [00:00<?, ?it/s]"
      ]
     },
     "metadata": {},
     "output_type": "display_data"
    }
   ],
   "source": [
    "with driver.session() as session:\n",
    "    for _, row in tqdm(routes_df.iterrows(), total=len(routes_df)):\n",
    "        if row[\"stops\"] > 1:\n",
    "            continue\n",
    "        session.run(\n",
    "            \"\"\"\n",
    "            MATCH (source:Terminal {iata: $source_airport}),\n",
    "                  (destination:Terminal {iata: $destination_airport}),\n",
    "                  (airline:Airline {iata: $airline})\n",
    "            MERGE (source)-[:FLIGHT_TO {iata: $airline, distance: point.distance(source.location, destination.location), plane: $equipment}]->(destination)\n",
    "            \"\"\",\n",
    "            source_airport=row[\"source_airport\"],\n",
    "            destination_airport=row[\"destination_airport\"],\n",
    "            airline=row[\"airline\"],\n",
    "            # stops=row[\"stops\"],\n",
    "            equipment=row[\"equipment\"],\n",
    "        )\n",
    "        # match equipment to airline\n",
    "        session.run(\n",
    "            \"\"\"\n",
    "            MATCH (p:PlaneType {iata: $equipment}),\n",
    "                  (a:Airline {iata: $airline})\n",
    "            MERGE (a)-[:OPERATES]->(p)\n",
    "            \"\"\",\n",
    "            equipment=row[\"equipment\"],\n",
    "            airline=row[\"airline\"],\n",
    "        )"
   ]
  },
  {
   "cell_type": "markdown",
   "id": "9547c971f11e0d0c",
   "metadata": {},
   "source": [
    "# Functions"
   ]
  },
  {
   "cell_type": "code",
   "execution_count": 446,
   "id": "5a9ea598c6a2e976",
   "metadata": {
    "ExecuteTime": {
     "end_time": "2025-01-08T18:41:27.277061Z",
     "start_time": "2025-01-08T18:41:27.275354Z"
    }
   },
   "outputs": [],
   "source": [
    "# with driver.session() as session:\n",
    "#     session.run(\n",
    "#         \"\"\"\n",
    "#\n",
    "#         \"\"\")"
   ]
  }
 ],
 "metadata": {
  "kernelspec": {
   "display_name": "Python 3 (ipykernel)",
   "language": "python",
   "name": "python3"
  },
  "language_info": {
   "codemirror_mode": {
    "name": "ipython",
    "version": 3
   },
   "file_extension": ".py",
   "mimetype": "text/x-python",
   "name": "python",
   "nbconvert_exporter": "python",
   "pygments_lexer": "ipython3",
   "version": "3.11.10"
  }
 },
 "nbformat": 4,
 "nbformat_minor": 5
}
